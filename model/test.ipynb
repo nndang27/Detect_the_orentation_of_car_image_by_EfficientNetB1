{
 "cells": [
  {
   "cell_type": "code",
   "execution_count": 1,
   "metadata": {},
   "outputs": [],
   "source": [
    "import torch\n",
    "from torchvision import datasets, models, transforms\n",
    "import torch.nn as nn\n",
    "from torch.nn import functional as F\n",
    "import torch.optim as optim\n",
    "import numpy as np\n",
    "import time\n",
    "from torch.utils.data import Dataset, DataLoader\n",
    "from torch.optim.lr_scheduler import MultiStepLR\n",
    "import glob \n",
    "import os\n",
    "import cv2\n",
    "from PIL import Image\n",
    "import random\n",
    "from dataset import get_data_loader\n",
    "from tqdm import tqdm\n",
    "import time\n",
    "import cv2\n",
    "import seaborn as sns\n",
    "import matplotlib.pyplot as plt\n",
    "from PIL import ImageFile\n",
    "ImageFile.LOAD_TRUNCATED_IMAGES = True\n",
    "import albumentations as A\n",
    "from utils import plot_acc,plot_loss\n",
    "import shutil\n",
    "from model import build_model"
   ]
  },
  {
   "cell_type": "code",
   "execution_count": 2,
   "metadata": {},
   "outputs": [],
   "source": [
    "def train_model(model, criterion, optimizer, num_epochs=3,epoch_start=0,save_img_false=False):\n",
    "    loss_train = []\n",
    "    loss_val = []\n",
    "    acc_train = []\n",
    "    acc_val = []\n",
    "    for epoch in range(epoch_start,num_epochs):\n",
    "        best_acc_val = 0\n",
    "        for phase in ['train', 'validation']:\n",
    "            if phase == 'train':\n",
    "                model.train()\n",
    "            else:\n",
    "                model.eval()\n",
    "\n",
    "            running_loss = 0.0\n",
    "            running_corrects = 0\n",
    "            count = 1 \n",
    "            tepoch =  tqdm(Dataloader[phase])\n",
    "            for inputs, labels, path in tepoch:\n",
    "                tepoch.set_description(f\"Epoch {epoch}\")\n",
    "                inputs = inputs.to(device)\n",
    "                labels = labels.to(device)\n",
    "\n",
    "                outputs = model(inputs)\n",
    "                loss = criterion(outputs, labels)\n",
    "\n",
    "                if phase == 'train':\n",
    "                    optimizer.zero_grad()\n",
    "                    loss.backward()\n",
    "                    optimizer.step()\n",
    "\n",
    "                _, preds = torch.max(outputs, 1)\n",
    "                running_loss += loss.item() \n",
    "                running_corrects += (torch.sum(preds == labels.data)/ len(inputs)).item() \n",
    "                loss_training = running_loss/count\n",
    "                acc_training = running_corrects/count\n",
    "\n",
    "                if save_img_false and epoch >= 3:\n",
    "                    path_save = 'training/epoch_' + str(epoch)\n",
    "                    isExist = os.path.exists(path_save)\n",
    "                    if not isExist:\n",
    "                        os.makedirs(path_save)\n",
    "                    check_false = preds == labels.data\n",
    "                    for idx_check,i in enumerate(check_false):\n",
    "                        if i == False:\n",
    "                            output_sigmoid = torch.sigmoid(outputs[idx_check])\n",
    "                            shutil.copy(path[idx_check],path_save + \"/\" + name_label[labels.data[idx_check]] +\n",
    "                            \"_{:.2f}_{:.2f}_{:.2f}_{:.2f}_\".format(\n",
    "                                *output_sigmoid.cpu().detach().numpy())+ path[idx_check].split('/')[-1])\n",
    "                if phase == 'train':\n",
    "                    tepoch.set_postfix(Loss_train=f\" {loss_training:.4f}\",acc_train=f\"{acc_training:.4f}\")\n",
    "\n",
    "                else:\n",
    "                    tepoch.set_postfix(Loss_val=f\" {loss_training:.4f}\",acc_val=f\"{acc_training:.4f}\")\n",
    "\n",
    "                time.sleep(0.1)\n",
    "                count +=1 \n",
    "\n",
    "            if acc_training > best_acc_val and phase == 'validation':\n",
    "                best_acc_val = acc_training\n",
    "                torch.save({\n",
    "                    'epoch': epoch,\n",
    "                    'model_state_dict': model.state_dict(),\n",
    "                    'optimizer_state_dict': optimizer.state_dict(),\n",
    "                    }, 'checkpoint/resnext_best.pt')\n",
    "            torch.save({\n",
    "                'epoch': epoch,\n",
    "                'model_state_dict': model.state_dict(),\n",
    "                'optimizer_state_dict': optimizer.state_dict(),\n",
    "                }, f'checkpoint/resnext_epoch_{epoch}.pt')\n",
    "            if phase == 'train':\n",
    "                loss_train.append(round(loss_training,4))\n",
    "                acc_train.append(round(acc_training,4))\n",
    "            else:\n",
    "                loss_val.append(round(loss_training,4))\n",
    "                acc_val.append(round(acc_training,4))    \n",
    "        scheduler.step()\n",
    "        plot_acc(acc_train,acc_val)\n",
    "        plot_loss(loss_train,loss_val)\n",
    "    return model"
   ]
  },
  {
   "cell_type": "code",
   "execution_count": 2,
   "metadata": {},
   "outputs": [
    {
     "name": "stdout",
     "output_type": "stream",
     "text": [
      "416\n",
      "[INFO]: Number of training examples: 416\n"
     ]
    }
   ],
   "source": [
    "path_data = '/home/a4000/Data/tinhnv/classifier_car/Data_training/Data_training_0801'\n",
    "\n",
    "name_label =  ['unknown','car','recaptured_images','can_canh']\n",
    "\n",
    "Dataloader = get_data_loader(path_data,name_label)"
   ]
  },
  {
   "cell_type": "code",
   "execution_count": null,
   "metadata": {},
   "outputs": [],
   "source": [
    "device = torch.device(\"cuda:0\" if torch.cuda.is_available() else \"cpu\")\n",
    "\n",
    "lr_1 = 0.01\n",
    "lr_2 = 0.01\n",
    "\n",
    "num_classes = Dataloader['train'].dataset.classes\n",
    "\n",
    "f = open(\"class_names.py\", \"w\")\n",
    "f.write(\"class_names = \"+str(Dataloader['train'].dataset.name_label))\n",
    "f.close()\n",
    "\n",
    "model = build_model(num_classes=num_classes)\n",
    "model.to(device)"
   ]
  },
  {
   "cell_type": "code",
   "execution_count": null,
   "metadata": {},
   "outputs": [],
   "source": [
    "parameters = []\n",
    "for name,param in model.named_parameters():\n",
    "    if 'classifier' in name:\n",
    "        parameters += [{'params': [param],'lr':lr_2}]\n",
    "    else:\n",
    "        parameters += [{'params': [param],'lr':lr_1}]\n",
    "\n",
    "criterion = nn.CrossEntropyLoss()\n",
    "\n",
    "optimizer = optim.Adam(parameters)\n",
    "\n",
    "# scheduler = MultiStepLR(optimizer, milestones=[10,20], gamma=0.1)\n",
    "lambda1 = lambda epoch: 0.9 ** epoch\n",
    "scheduler = torch.optim.lr_scheduler.LambdaLR(optimizer, lr_lambda=lambda1)\n",
    "\n",
    "model_trained = train_model(model, criterion, optimizer, num_epochs=50,save_img_false=True)"
   ]
  }
 ],
 "metadata": {
  "kernelspec": {
   "display_name": "Python 3",
   "language": "python",
   "name": "python3"
  },
  "language_info": {
   "codemirror_mode": {
    "name": "ipython",
    "version": 3
   },
   "file_extension": ".py",
   "mimetype": "text/x-python",
   "name": "python",
   "nbconvert_exporter": "python",
   "pygments_lexer": "ipython3",
   "version": "3.8.10"
  },
  "orig_nbformat": 4,
  "vscode": {
   "interpreter": {
    "hash": "916dbcbb3f70747c44a77c7bcd40155683ae19c65e1c03b4aa3499c5328201f1"
   }
  }
 },
 "nbformat": 4,
 "nbformat_minor": 2
}
